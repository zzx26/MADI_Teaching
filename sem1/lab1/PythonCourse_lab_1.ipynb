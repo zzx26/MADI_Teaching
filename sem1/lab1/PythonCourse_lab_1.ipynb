{
 "cells": [
  {
   "cell_type": "markdown",
   "metadata": {},
   "source": [
    "# Пара 1\n",
    "\n",
    "Даннный notebook содержит вводную часть курса по python, читающегося в МАДИ в 22/23 году\n",
    "\n",
    "Python по своей концептуальной сути - это язык, который старается сделать затраты на превращение алогритма, который вы держите в голове в работающий код минимальными\n",
    "\n",
    "Обычно любые гайды по языкам начинаются с \"Hello, world\", т.к. чтобы проверять корректность работы программы, хорошо бы уметь выводить какие-то данные при её выполнении. Нередко написание такой программы требует шагов, которые при первом знакомстве с языком кажутся эзотерическими ритуалами, но Python лишен подобных вещей"
   ]
  },
  {
   "cell_type": "code",
   "execution_count": 1,
   "metadata": {},
   "outputs": [
    {
     "name": "stdout",
     "output_type": "stream",
     "text": [
      "Hello, world!\n"
     ]
    }
   ],
   "source": [
    "print(\"Hello, world!\")"
   ]
  },
  {
   "cell_type": "markdown",
   "metadata": {},
   "source": [
    "Вторая самая важная часть языка - хранение и форма(тип) данных. Все данные в питоне хранятся в виде изменямых кусочков памяти, тип которых определяется языком самостоятельно из контекста, хотя, конечно, никто не запрещает нам решать за интерпретатор, какого типа данные, которые мы ему даем"
   ]
  },
  {
   "cell_type": "code",
   "execution_count": 9,
   "metadata": {},
   "outputs": [
    {
     "name": "stdout",
     "output_type": "stream",
     "text": [
      "5 <class 'int'>\n",
      "5.0 <class 'float'>\n",
      "4.12313 <class 'float'>\n",
      "misc string <class 'str'>\n",
      "True <class 'bool'>\n"
     ]
    }
   ],
   "source": [
    "#int - целочисленные значения\n",
    "a = 5\n",
    "#float - нецелочисленные значения (с плавающей точкой)\n",
    "f = 4.12313\n",
    "#string - строки, текстовый тип данных\n",
    "s = \"misc string\"\n",
    "#bool булевы значения\n",
    "youre_cute = True\n",
    "\n",
    "print(a, type(a))\n",
    "a = float(a)\n",
    "print(a, type(a))\n",
    "print(f, type(f))\n",
    "print(s, type(s))\n",
    "print(youre_cute, type(youre_cute))\n"
   ]
  },
  {
   "cell_type": "markdown",
   "metadata": {},
   "source": [
    "## Арифметика\n",
    "\n",
    "численные типы поддерживают 4 простейшие математические операции, круглые скобки для измения порядка вполнения операций +возведение в степень и остаток от деления на число. Важно отметить то, что есть два вида деления - целочисленное и \"обычное\""
   ]
  },
  {
   "cell_type": "code",
   "execution_count": 13,
   "metadata": {},
   "outputs": [
    {
     "name": "stdout",
     "output_type": "stream",
     "text": [
      "Сложение: 10 Умножение: 21 Степень: 343\n",
      "Деление: 2.3333333333333335 Целочисленоое деление 2 Остаток: 1\n"
     ]
    }
   ],
   "source": [
    "a = 7\n",
    "b = 3\n",
    "print(\"Сложение:\", a+b, \"Умножение:\", a*b, \"Степень:\", a**b)\n",
    "print(\"Деление:\", a/b, \"Целочисленоое деление\", a//b, \"Остаток:\", a%b)"
   ]
  },
  {
   "cell_type": "markdown",
   "metadata": {},
   "source": [
    "Так как питон, по мнению программистов, пишущих на более низкоуровневых языках, считается по мнению оных скорее калькулятором, нежели полноценным языком, ниже вам предлагается воспользоваться им именно в таком ключе и найти корни квадратного уравнения $ax^2 + bx + c$ с заданными коэффициентами"
   ]
  },
  {
   "cell_type": "code",
   "execution_count": 2,
   "metadata": {},
   "outputs": [
    {
     "name": "stdout",
     "output_type": "stream",
     "text": [
      "выведите результат сюда\n"
     ]
    }
   ],
   "source": [
    "a = 41\n",
    "b = 193\n",
    "c = -32\n",
    "print(\"выведите результат сюда\")"
   ]
  },
  {
   "cell_type": "markdown",
   "metadata": {},
   "source": [
    "## Циклы\n",
    "\n",
    "Полагаю, что пока функционал языка кажется не очень впечатлительным. Один из главных плюсов программирования - возможность заставить компьютер выполнять огромное количество однотипных операций за очень небольшие строки. К сожалению, несмотря на все достижения современной науки, компьютер не может ходить за вас на работу, а если может, то, скорее всего, вам стоит задумываться об оформлении пособия по безработице\n",
    "\n",
    "Возможность повторения одной и той же операции выполняют циклы. Основных нужных для применения вида циклов два - `for` для известного количества итераций и `while` для остального"
   ]
  },
  {
   "cell_type": "code",
   "execution_count": 25,
   "metadata": {},
   "outputs": [
    {
     "name": "stdout",
     "output_type": "stream",
     "text": [
      "1.6439335666815615\n",
      "1597\n"
     ]
    }
   ],
   "source": [
    "#считаем значение дзета функции римана в точке 2\n",
    "dzeta_2 = 0\n",
    "for i in range(1, 1000):\n",
    "    dzeta_2 += 1/i**2\n",
    "\n",
    "print(dzeta_2)\n",
    "\n",
    "#находим перое число фибоначчи, большее 1000\n",
    "a = 1\n",
    "b = 1\n",
    "c = 1\n",
    "while c < 1000:\n",
    "    c = a + b\n",
    "    a = b\n",
    "    b = c\n",
    "    \n",
    "print(c)"
   ]
  },
  {
   "cell_type": "markdown",
   "metadata": {},
   "source": [
    "Найдите, при каком минимальном количестве сторон углов многоугльника его периметр отличется от радуса описанной окружности менее, чем на $\\varepsilon$ процентов"
   ]
  },
  {
   "cell_type": "code",
   "execution_count": 1,
   "metadata": {},
   "outputs": [
    {
     "name": "stdout",
     "output_type": "stream",
     "text": [
      "ответ сюда\n"
     ]
    }
   ],
   "source": [
    "epsilon = 3\n",
    "print(\"ответ сюда\")"
   ]
  },
  {
   "cell_type": "markdown",
   "metadata": {},
   "source": [
    "## Ветвление и методы циклов\n",
    "\n",
    "Еще одна важная особенность программировния, которая пока еще нами не затрагивалась - возможность писать сравнительно универсальный код на любые вариации конкретной задачи. Для это существует условный оператор `if` `else`, а так же часто используемые с ним в циклах операторы `break`, прерывабщий работу цикла и `continue`, вызвающий следующую итерацию цикла"
   ]
  },
  {
   "cell_type": "code",
   "execution_count": 8,
   "metadata": {},
   "outputs": [
    {
     "name": "stdout",
     "output_type": "stream",
     "text": [
      "Введите чсло\n",
      "3\n",
      "введеное число нечетное\n"
     ]
    }
   ],
   "source": [
    "print(\"Введите целое чсло\")\n",
    "n = int(input())\n",
    "\n",
    "if n%2 == 0:\n",
    "    print(\"введеное число четное\")\n",
    "else:\n",
    "    print(\"введеное число нечетное\")"
   ]
  },
  {
   "cell_type": "code",
   "execution_count": 11,
   "metadata": {},
   "outputs": [
    {
     "name": "stdout",
     "output_type": "stream",
     "text": [
      "Введите чсло\n",
      "1415\n",
      "зачем использовать такие большие числа\n"
     ]
    }
   ],
   "source": [
    "print(\"Введите чсло\")\n",
    "n = int(input())\n",
    "\n",
    "if n//10 == 0:\n",
    "    print(\"введеное число одноразрядное\")\n",
    "elif n//100 == 0:\n",
    "    print(\"введеное число двуразрядоное\")\n",
    "else:\n",
    "    print(\"зачем использовать такие большие числа\")"
   ]
  },
  {
   "cell_type": "code",
   "execution_count": 12,
   "metadata": {},
   "outputs": [
    {
     "name": "stdout",
     "output_type": "stream",
     "text": [
      "6\n",
      "5\n",
      "1\n",
      "0\n",
      "-4\n"
     ]
    }
   ],
   "source": [
    "counter = 10\n",
    "while True:\n",
    "    if counter%5 == 0:\n",
    "        counter -=3 \n",
    "        continue\n",
    "    counter -= 1\n",
    "    print(counter)\n",
    "    if counter < 0:\n",
    "        break"
   ]
  },
  {
   "cell_type": "markdown",
   "metadata": {},
   "source": [
    "## Контейнеры\n",
    "\n",
    "Часто нам удобно работать с большим количеством однотипных данных, где имя дается только самому набору элементов, а обращение идет по индексам(начиная с нуля). Основные виды контейнеров, с которыми вам придется работать - это списки(list), кортежи(tuple) и ранее известные вам строки. Списки и кортежи очень похожи по синтаксису, их методы называются отдинаково, но принципиальное отличие в том, что кортеж нельзя изменить, в то время как в списке можно как изменять сами элементы, так и изменять длину списка, добавляя и удаляя элементы"
   ]
  },
  {
   "cell_type": "code",
   "execution_count": 25,
   "metadata": {},
   "outputs": [
    {
     "name": "stdout",
     "output_type": "stream",
     "text": [
      "(7, 'ace', 10) <class 'tuple'>\n",
      "7\n",
      "ace\n",
      "10\n",
      "[3, 7, 2, 3, 7, 2] <class 'list'>\n",
      "[5, 9, 4, 5, 9, 4]\n",
      "сортируем: [4, 4, 5, 5, 9, 9]\n",
      "разворачиваем: [9, 9, 5, 5, 4, 4]\n",
      "удаляем штуки: [9, 9, 5, 4, 4]\n",
      "прибавляем штуки в конец: [9, 9, 5, 4, 4, 14]\n",
      "можно взять кусочек массива от [5, 4, 4, 14]\n",
      "можно взять кусочек массива до [9, 9]\n",
      "можно взять кусочек массива от, до и с шагом [9, 4]\n"
     ]
    }
   ],
   "source": [
    "deck = (7, \"ace\", 10)\n",
    "print(deck, type(deck))\n",
    "#обратите внимание на то, как можно итерировать над контейнерами с помощью цикла for\n",
    "for i in deck:\n",
    "    print(i)\n",
    "    \n",
    "numbers = [3, 7, 2]\n",
    "numbers = numbers*2\n",
    "for n in numbers:\n",
    "    n = n+2\n",
    "#почему не сработало?\n",
    "print(numbers, type(numbers))\n",
    "for i in range(len(numbers)):\n",
    "    numbers[i] += 2\n",
    "print(numbers)\n",
    "\n",
    "#сортируем\n",
    "numbers.sort()\n",
    "print(\"сортируем:\", numbers)\n",
    "#разворачиваем\n",
    "numbers.reverse()\n",
    "print(\"разворачиваем:\", numbers)\n",
    "#удаляем штуки\n",
    "numbers.pop(3)\n",
    "print(\"удаляем штуки:\", numbers)\n",
    "#прибавляем штуки в конец\n",
    "numbers.append(14)\n",
    "print(\"прибавляем штуки в конец:\", numbers)\n",
    "#можно взять кусочек массива: array[start:stop:step] ВАЖНО - start включительно, stop не включительно\n",
    "print(\"можно взять кусочек массива от\", numbers[2:])\n",
    "print(\"можно взять кусочек массива до\", numbers[:2])\n",
    "print(\"можно взять кусочек массива от, до и с шагом\", numbers[1:4:2])"
   ]
  },
  {
   "cell_type": "markdown",
   "metadata": {},
   "source": [
    "Напишите скрипт, который генерирует первые 100 чисел ряда вида $x_i = i^\\alpha, \\; i = 1, 2, 3, \\dots$, найдите численно такое целое значение $\\beta$, при котором модуль среднего значения ряда $x_i - \\beta i^2$ минимален"
   ]
  },
  {
   "cell_type": "code",
   "execution_count": null,
   "metadata": {},
   "outputs": [],
   "source": [
    "alpha = 2.7\n",
    "print(\"optimal beta is:\")"
   ]
  },
  {
   "cell_type": "markdown",
   "metadata": {},
   "source": [
    "## Работа со строками\n",
    "\n",
    "По своей сути, строки - тоже контейнеры, содержащие отдельные буквы или символы, но у них некоторое ограничение по функционалу в силу того, что они не содержат числа и некоторые новые возможности"
   ]
  },
  {
   "cell_type": "code",
   "execution_count": 41,
   "metadata": {},
   "outputs": [
    {
     "name": "stdout",
     "output_type": "stream",
     "text": [
      "Сроки можно складывать: qwertyasdf\n",
      "Можно удалять или заменять символы: werty 33f\n",
      "Moжно проверять наличие символов и их индекс 0 3 -1 1\n"
     ]
    }
   ],
   "source": [
    "s1 = \"qwerty\"\n",
    "s2 = \"asdf\"\n",
    "s3 = \"essay\"\n",
    "\n",
    "print(\"Сроки можно складывать:\", s1+s2)\n",
    "print(\"Можно удалять или заменять символы:\", s1.replace('q', ''), s2.replace('asd', '33'))\n",
    "print(\"Moжно проверять наличие символов и их индекс\", s1.find('q'), s2.find('f'), s1.find('a'), s3.find('s'))"
   ]
  },
  {
   "cell_type": "markdown",
   "metadata": {},
   "source": [
    "Напишите код, который имитирует игру в виселицу (hangman)"
   ]
  },
  {
   "cell_type": "code",
   "execution_count": 26,
   "metadata": {},
   "outputs": [],
   "source": [
    "# место для кода\n",
    "# мб еще задач напридумывать"
   ]
  },
  {
   "cell_type": "markdown",
   "metadata": {},
   "source": [
    "## Функции\n",
    "\n",
    "Все программирование создано для того, чтобы выполнять повторяющиеся монотонные задачи быстрее и лучше людей. Если сделать возможным некоторую паарметризацию повторяющихся блоков кода, то получатся функции"
   ]
  },
  {
   "cell_type": "code",
   "execution_count": 13,
   "metadata": {},
   "outputs": [
    {
     "name": "stdout",
     "output_type": "stream",
     "text": [
      "4\n",
      "-0.0\n",
      "abcabcabc\n",
      "some_function_value = 0\n"
     ]
    }
   ],
   "source": [
    "def some_function(a, b): #объявление функции\n",
    "    if a > 3:            #тело функции\n",
    "        a = 0\n",
    "    return a*b           #вывод\n",
    "\n",
    "print(some_function(2, 2))\n",
    "print(some_function(4, -13.045))\n",
    "print(some_function(3, \"abc\"))\n",
    "\n",
    "#можно и обычно нужно вернуть полученное занчение\n",
    "some_function_value = some_function(4, 2)\n",
    "print(\"some_function_value = {}\".format(some_function_value))"
   ]
  },
  {
   "cell_type": "code",
   "execution_count": 17,
   "metadata": {},
   "outputs": [
    {
     "name": "stdout",
     "output_type": "stream",
     "text": [
      "qwerty\n"
     ]
    }
   ],
   "source": [
    "#Все, что происходит внутри функции, остается внутри функции\n",
    "a = \"qwerty\"\n",
    "def string_mod(s):\n",
    "    s = s.replace(\"qwe\", \"000\")\n",
    "\n",
    "string_mod(a)\n",
    "print(a)"
   ]
  },
  {
   "cell_type": "code",
   "execution_count": 36,
   "metadata": {},
   "outputs": [
    {
     "name": "stdout",
     "output_type": "stream",
     "text": [
      "модуль чисто икса: 7.0\n",
      "модуль вектора: 5.0\n",
      "модуль вектора, округленный вниз: 7\n"
     ]
    }
   ],
   "source": [
    "#Некоторые аргументы можно делать опциональными и можно присваивать им типы при объявлении, как у нормальных людей\n",
    "#Считаем длину вектора\n",
    "def modulo(x: int, y=0, cell_to_int=False):\n",
    "    ret_val = (x**2+y**2)**(1/2)\n",
    "    if cell_to_int:\n",
    "        return int(ret_val)\n",
    "    else:\n",
    "        return ret_val\n",
    "    \n",
    "print(\"модуль чисто икса:\", modulo(-7))\n",
    "print(\"модуль вектора:\", modulo(3, 4))\n",
    "print(\"модуль вектора, округленный вниз\", modulo(5, -6, cell_to_int=True))"
   ]
  },
  {
   "cell_type": "code",
   "execution_count": 44,
   "metadata": {},
   "outputs": [
    {
     "name": "stdout",
     "output_type": "stream",
     "text": [
      "2-d модуль: 5.0\n",
      "4-d модуль: 12.609520212918492\n",
      "n-d модуль какой-то точки point: 8\n"
     ]
    }
   ],
   "source": [
    "#Если мы не знаем размерность пространства, в котором сидит точка - что делать?\n",
    "#Ответ - *args\n",
    "\n",
    "def modulo(*coords, cell_to_int=False):\n",
    "    ret_val = sum([i**2 for i in coords])**(1/2)\n",
    "    if cell_to_int:\n",
    "        return int(ret_val)\n",
    "    else:\n",
    "        return ret_val\n",
    "    \n",
    "print(\"2-d модуль:\", modulo(3, 4))\n",
    "print(\"4-d модуль:\", modulo(7, 2, -5, 9))\n",
    "point = (0, 3, -6, 3, 1, 1, 4)\n",
    "print(\"n-d модуль какой-то точки point:\", modulo(*point, cell_to_int=True))\n",
    "\n",
    "#а про **kwargs как-нибудь попозже"
   ]
  },
  {
   "cell_type": "code",
   "execution_count": null,
   "metadata": {},
   "outputs": [],
   "source": []
  }
 ],
 "metadata": {
  "kernelspec": {
   "display_name": "Python 3 (ipykernel)",
   "language": "python",
   "name": "python3"
  },
  "language_info": {
   "codemirror_mode": {
    "name": "ipython",
    "version": 3
   },
   "file_extension": ".py",
   "mimetype": "text/x-python",
   "name": "python",
   "nbconvert_exporter": "python",
   "pygments_lexer": "ipython3",
   "version": "3.9.7"
  }
 },
 "nbformat": 4,
 "nbformat_minor": 4
}
