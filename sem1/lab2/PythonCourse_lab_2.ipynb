{
 "cells": [
  {
   "cell_type": "markdown",
   "id": "f36c35ce",
   "metadata": {},
   "source": [
    "# Пара 2\n",
    "\n",
    "Доучим основы (базу) и на следующей паре уже начнем наводить суету\n",
    "\n",
    "## Словари\n",
    "\n",
    "Очень удобные способ хранения любых хоть сколько-то организованных данных. По факту - полностью перенесенный в питон и немного дополненный формат неряционных бд .json\n",
    "\n",
    "В чем премис: у нас какие-то данный формата имя, фамилия, рост, кличка собаки и тп... Что угодно, что соответсвует шаблону `key -> value`. Мы можем сопаставить каким-то общим названиям конкретные значения для каждого случая (Имя -> Tape, Фамилия -> BigBaby) "
   ]
  },
  {
   "cell_type": "code",
   "execution_count": 10,
   "id": "f5027f03",
   "metadata": {},
   "outputs": [
    {
     "name": "stdout",
     "output_type": "stream",
     "text": [
      "300 bucks\n",
      "100.0 \n",
      "\n",
      "массив - тоже итерируемый объект: 300\n",
      "массив - тоже итерируемый объект: bucks\n",
      "массив - тоже итерируемый объект: 300\n",
      "массив - тоже итерируемый объект: Van\n",
      "\n",
      "price  - целочисленное значение\n",
      "three_hundred  - целочисленное значение\n"
     ]
    }
   ],
   "source": [
    "d = {\"price\": 300, \"currency\": \"bucks\", \"three_hundred\": 300, \"name\": \"Van\"}\n",
    "print(d[\"price\"], d[\"currency\"])\n",
    "print(d[\"three_hundred\"]/3, '\\n')\n",
    "\n",
    "#по дефолту итератор возвращает массив ключей\n",
    "for key in d:\n",
    "    print(\"массив - тоже итерируемый объект:\", d[key])\n",
    "    \n",
    "print(\"\")\n",
    "    \n",
    "for key, value in d.items():\n",
    "    if type(value) == int:\n",
    "        print(key, \" - целочисленное значение\")"
   ]
  },
  {
   "cell_type": "markdown",
   "id": "940e86d0",
   "metadata": {},
   "source": [
    "Словари еще очень удобны тем, что в `value` можно положить __любой__ объект, в том числе и другой словарь. Из этого следует, что из словарей можно построить произвольное дерево. Если вы хотя бы немного интересовались структурами данных, вы понимаете почему это прекрасно ( ͡° ͜ʖ ͡°) "
   ]
  },
  {
   "cell_type": "code",
   "execution_count": 15,
   "id": "17863f15",
   "metadata": {},
   "outputs": [
    {
     "name": "stdout",
     "output_type": "stream",
     "text": [
      "Ruby's age is 4\n",
      "Clara 's pets are Ruby\n",
      "Mark 's pets are Victor Hmyr\n"
     ]
    }
   ],
   "source": [
    "petwalk = {\"Clara\": [{\"Name\": \"Ruby\", \n",
    "                     \"Animal\": \"Dog\", \n",
    "                     \"Age\": 4, \n",
    "                     \"Breed\": \"Golden Retriever\"}], \n",
    "           \"Mark\": [{\"Name\": \"Victor\",\n",
    "                    \"Animal\": \"Dog\",\n",
    "                    \"Age\": 7, \n",
    "                    \"Breed\": \"Irish Setter\"}, {\"Name\": \"Hmyr\", \"Animal\": \"Ferret\", \"Age\": 1}]\n",
    "          }\n",
    "\n",
    "a = petwalk[\"Clara\"][0][\"Age\"]\n",
    "print(\"Ruby's age is\", a)\n",
    "\n",
    "for q in petwalk:\n",
    "    print(q, \"'s pets are\", *[i[\"Name\"] for i in petwalk[q]])"
   ]
  },
  {
   "cell_type": "markdown",
   "id": "7cfdbe5c",
   "metadata": {},
   "source": [
    "А теперь разберем ранее обещанный `**kwargs`. Очень похож на `*args`, но распаковывает в функцию не массив, а словарь. Позволяет обобщить всяческую \"околофлаговую\" семантику и опциональные аргументы, написав вместо 500 значений одно слово"
   ]
  },
  {
   "cell_type": "code",
   "execution_count": 30,
   "id": "6e595441",
   "metadata": {},
   "outputs": [
    {
     "name": "stdout",
     "output_type": "stream",
     "text": [
      "cfg1: 35.793\n",
      "cfg2.1: 36\n",
      "cfg2.2: 1638591\n"
     ]
    }
   ],
   "source": [
    "cfg_1 = {\"round\": False, \"splitter\": \",\", \"max_len\": 5}\n",
    "cfg_2 = {\"round\": \"ceil\", \"max_len\": 7}\n",
    "\n",
    "def hell_sum(*args, **kwargs):\n",
    "    ret_val = sum(args)\n",
    "    if kwargs[\"round\"]:\n",
    "        if kwargs[\"round\"] == \"floor\":\n",
    "            ret_val = int(ret_val)\n",
    "        elif kwargs[\"round\"] == \"ceil\":\n",
    "            ret_val = int(ret_val)+1\n",
    "    else: \n",
    "        ret_val = str(ret_val)\n",
    "        ret_val.replace(\".\", kwargs[\"splitter\"])\n",
    "    ret_val = str(ret_val)\n",
    "    edge = kwargs[\"max_len\"]+1 \n",
    "    return ret_val[:edge]\n",
    "\n",
    "print(\"cfg1:\", hell_sum(12.3421, 3, 15.15161, 5.3, **cfg_1))\n",
    "print(\"cfg2.1:\", hell_sum(12.3421, 3, 15.15161, 5.3, **cfg_2))\n",
    "print(\"cfg2.2:\", hell_sum(123421, 3, 1515161, 5.3, **cfg_2))"
   ]
  },
  {
   "cell_type": "markdown",
   "id": "1234f182",
   "metadata": {},
   "source": [
    "## Начала ООП\n",
    "\n",
    "Объекты по своей сути продолжают тот принцип обобщения, по которому работают циклы и функции на более высокий уровень абстрактции. Одна из важных киллер-фич - возможность взаимодействовать с outer-scope'ом из функциии делать это сравнительно безопасно. А еще у объектов есть свой словарь анимешника - переменные здесь называются __полями__, а функции - __методами__\n",
    "\n",
    "Объекты нужны, чтобы описывать произвольные множества и как-то определять операции над ними. Встроенная система типов любого языка построена максимально универсальной, но возможность создавать какие-либо свои типы данных бывает нередко очень полезна и сильно сокращает время написания кода. ООП - один из ~~костылей~~ возможных методов реализации этой потребности\n",
    "\n",
    "Давайте попробуем реализовать какое-нибудь математическое множество со сложной структурой с которым вы при этом уже не раз сталкивались в математике. В качестве оного выберем множество многочленов\n",
    "\n",
    "Сам в себе многочлен можно описать довольно несложно - это просто вектор произвольной длины, где каждый его элемент - коэффициент со степенью, соответствующей его номеру"
   ]
  },
  {
   "cell_type": "code",
   "execution_count": 31,
   "id": "54b24abb",
   "metadata": {},
   "outputs": [],
   "source": [
    "class Polynomial:\n",
    "    def __init__(self, *args):\n",
    "        self.coefs = args[::-1]"
   ]
  },
  {
   "cell_type": "markdown",
   "id": "8b21cb95",
   "metadata": {},
   "source": [
    "Класс объявляется, как ни странно, словом `class`. После этого обычно сразу объявляются поля в формате `self.field_name = \"value\"`. `self` перед полями нужен для того. чтобы обозначить питону, чтобы мы хотим иметь к ним доступ из любого метода класса, в котором тоже написано `self` в качестве аргумента. Страшно выглядящий заключенный в два подчеркивания метод `__init__` описывает поведение при создании __экземпляра__ нашего класса, то есть какой-то конкретной сущности из нашего абстрактного множества, если переводить с математического. `__init__` - первый из так называемых \"магических методов\", которые обычно делают всякое странное-полезное. \n",
    "\n",
    "Мы разворачиваем полученный при инициализации массив в обратном порядке, потому что обычно люди записывают коэффициенты многочленов начиная со старшей степени, а вот компьютеру проще с ними обращаться в обратном порядке"
   ]
  },
  {
   "cell_type": "code",
   "execution_count": 45,
   "id": "a53378e7",
   "metadata": {},
   "outputs": [
    {
     "name": "stdout",
     "output_type": "stream",
     "text": [
      "poly1 at 0 equals: 3\n",
      "poly1 at 3 equals: 18\n"
     ]
    }
   ],
   "source": [
    "class Polynomial:\n",
    "    def __init__(self, *args):\n",
    "        self.coefs = list(args[::-1])\n",
    "        \n",
    "    def at(self, point):\n",
    "        ret_val = 0\n",
    "        for degree, coef in enumerate(self.coefs):\n",
    "            ret_val += coef*point**degree\n",
    "        return ret_val\n",
    "    \n",
    "#создаем многочлен 2x^2-x+3\n",
    "poly1 = Polynomial(2, -1, 3)\n",
    "\n",
    "#считаем многочлен в двух точках\n",
    "print(\"poly1 at 0 equals:\", a.at(0))\n",
    "print(\"poly1 at 3 equals:\", a.at(3))"
   ]
  },
  {
   "cell_type": "markdown",
   "id": "b4f1891d",
   "metadata": {},
   "source": [
    "Давайте также научимся складывать наши многочлены, причем складывать обычным символом `+`. Для этого нам потребуется еще один магический метод - `__add__`. Также добавим метод вывода `show` для того, чтобы видеть, как выглядел бы наш многочлен на бумаге"
   ]
  },
  {
   "cell_type": "code",
   "execution_count": 76,
   "id": "a0fdcf4f",
   "metadata": {},
   "outputs": [
    {
     "name": "stdout",
     "output_type": "stream",
     "text": [
      "4 + 3x^1 + -2x^2 + 1x^3\n",
      "1 + 3x^2\n",
      "5 + 3x^1 + 1x^2 + 1x^3\n"
     ]
    }
   ],
   "source": [
    "class Polynomial:\n",
    "    def __init__(self, *args):\n",
    "        self.coefs = list(args[::-1])\n",
    "    \n",
    "    def at(self, point):\n",
    "        ret_val = 0\n",
    "        for degree, coef in enumerate(self.coefs):\n",
    "            ret_val += coef*point**degree\n",
    "        return ret_val\n",
    "    \n",
    "    def show(self):\n",
    "        ret_val = \"\"\n",
    "        for degree, coef in enumerate(self.coefs):\n",
    "            if coef != 0:\n",
    "                if degree != 0:\n",
    "                    ret_val += \"{}x^{} + \".format(coef, degree)\n",
    "                else:\n",
    "                    ret_val += \"{} + \".format(coef)\n",
    "        ret_val = ret_val[:-3]\n",
    "        print(ret_val)\n",
    "    \n",
    "    def __add__(self, other):\n",
    "        if len(self.coefs) >= len(other.coefs):\n",
    "            res = [0 for i in self.coefs]\n",
    "            min_l = len(other.coefs)\n",
    "            max_l = len(self.coefs)\n",
    "            for i in range(min_l):\n",
    "                res[i] = self.coefs[i] + other.coefs[i]\n",
    "            for i in range(min_l, max_l):\n",
    "                res[i] = self.coefs[i]\n",
    "        else:\n",
    "            res = [0 for i in other.coefs]\n",
    "            min_l = len(self.coefs)\n",
    "            max_l = len(other.coefs)\n",
    "            for i in range(min_l):\n",
    "                res[i] = self.coefs[i] + other.coefs[i]\n",
    "            for i in range(min_l, max_l):\n",
    "                res[i] = other.coefs[i]\n",
    "        \n",
    "        \n",
    "        return Polynomial(*res[::-1])\n",
    "    \n",
    "A = Polynomial(1, -2, 3, 4)\n",
    "B = Polynomial(3, 0, 1)\n",
    "A.show()\n",
    "B.show()\n",
    "C = B + A\n",
    "C.show()"
   ]
  },
  {
   "cell_type": "code",
   "execution_count": null,
   "id": "5fe2c48d",
   "metadata": {},
   "outputs": [],
   "source": []
  }
 ],
 "metadata": {
  "kernelspec": {
   "display_name": "Python 3 (ipykernel)",
   "language": "python",
   "name": "python3"
  },
  "language_info": {
   "codemirror_mode": {
    "name": "ipython",
    "version": 3
   },
   "file_extension": ".py",
   "mimetype": "text/x-python",
   "name": "python",
   "nbconvert_exporter": "python",
   "pygments_lexer": "ipython3",
   "version": "3.9.7"
  }
 },
 "nbformat": 4,
 "nbformat_minor": 5
}
